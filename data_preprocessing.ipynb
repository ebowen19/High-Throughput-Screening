{
 "cells": [
  {
   "cell_type": "code",
   "execution_count": 29,
   "id": "1fc15d2a4415d4a7",
   "metadata": {
    "collapsed": false,
    "ExecuteTime": {
     "end_time": "2024-06-25T02:25:46.692003Z",
     "start_time": "2024-06-25T02:25:46.645265Z"
    }
   },
   "outputs": [],
   "source": [
    "import os\n",
    "import pandas as pd\n",
    "\n",
    "folder = \"/Users/elizabeth 1/Library/CloudStorage/Box-Box/Wu Lab/Project - 2024/IN Carta [EB]/Results CSVs/11Plates_EDA\""
   ]
  },
  {
   "cell_type": "code",
   "outputs": [],
   "source": [
    "\n",
    "csv_dict = {}\n",
    "for root, dirs, files in os.walk(folder):\n",
    "    for dir_name in dirs:\n",
    "        csv_dict[dir_name] = {}\n",
    "        folder_path = os.path.join(root, dir_name)\n",
    "        for sub_root, sub_dirs, sub_files in os.walk(folder_path):\n",
    "            for file_name in sub_files:\n",
    "                file_path = os.path.join(folder_path, file_name)\n",
    "                if \"Red\" in file_name:\n",
    "                    name = \"red\"\n",
    "                elif \"Green\" in file_name:\n",
    "                    name = \"green\"\n",
    "                if \"Cell\" in file_name:\n",
    "                    name += \"_cells\"\n",
    "                elif \"Nuclei\" in file_name:\n",
    "                    name += \"_nuclei\"\n",
    "                csv_dict[dir_name][name] = pd.read_csv(file_path)\n",
    "            \n",
    "# csv_dict"
   ],
   "metadata": {
    "collapsed": true,
    "ExecuteTime": {
     "end_time": "2024-06-25T00:16:22.652862Z",
     "start_time": "2024-06-25T00:16:21.286865Z"
    }
   },
   "id": "initial_id",
   "execution_count": 11
  },
  {
   "cell_type": "code",
   "outputs": [],
   "source": [
    "# drop unnecessary columns\n",
    "columns_to_drop = [0, 4, 5]\n",
    "for plate in csv_dict:\n",
    "    for result  in csv_dict[plate]:\n",
    "        df = csv_dict[plate][result]\n",
    "        df.drop(df.columns[columns_to_drop], axis=1, inplace = True)\n",
    "        if \"nuclei\" in result:\n",
    "            df.drop(df.columns[[0, 1, 2]], axis=1, inplace = True)"
   ],
   "metadata": {
    "collapsed": false,
    "ExecuteTime": {
     "end_time": "2024-06-25T00:18:03.904887Z",
     "start_time": "2024-06-25T00:18:03.739115Z"
    }
   },
   "id": "11964a57f7e04144",
   "execution_count": 12
  },
  {
   "cell_type": "code",
   "outputs": [],
   "source": [
    "# combine nuclei & cell data\n",
    "combined_dict = {}\n",
    "# combined_dict\n",
    "for plate in csv_dict:\n",
    "    combined_dict[plate] = {}\n",
    "    combined_dict[plate]['green'] = pd.concat([csv_dict[plate]['green_cells'], csv_dict[plate]['green_nuclei']], axis=1)\n",
    "    combined_dict[plate]['red'] = pd.concat([csv_dict[plate]['red_cells'], csv_dict[plate]['red_nuclei']], axis=1)\n",
    "\n",
    "        "
   ],
   "metadata": {
    "collapsed": false,
    "ExecuteTime": {
     "end_time": "2024-06-25T00:39:18.390127Z",
     "start_time": "2024-06-25T00:39:18.352928Z"
    }
   },
   "id": "40184f54bc62c62a",
   "execution_count": 19
  },
  {
   "cell_type": "code",
   "outputs": [],
   "source": [
    "for plate in combined_dict:\n",
    "    for color in combined_dict[plate]:\n",
    "        df = combined_dict[plate][color]\n",
    "        df.to_csv(os.path.join('/Users/elizabeth 1/Library/CloudStorage/Box-Box/Wu Lab/Project - 2024/IN Carta [EB]/Results CSVs/11Plates_EDA', plate, color + '_combined.csv'), index = False)\n"
   ],
   "metadata": {
    "collapsed": false
   },
   "id": "3c909bc5a275fced",
   "execution_count": null
  },
  {
   "cell_type": "markdown",
   "source": [
    "## Add New Plate Data to Dict\n",
    "(might wanna change so that it doesn't rely on csv_dict being a saved item (just combined_dict would be)"
   ],
   "metadata": {
    "collapsed": false
   },
   "id": "e6016b847e94bb62"
  },
  {
   "cell_type": "code",
   "outputs": [],
   "source": [
    "# Find new subfolders to process\n",
    "new_subfolders = []\n",
    "for dir_name in next(os.walk(folder))[1]:\n",
    "    combined_green_path = os.path.join(folder, dir_name, 'green_combined.csv')\n",
    "    combined_red_path = os.path.join(folder, dir_name, 'red_combined.csv')\n",
    "    if dir_name not in csv_dict or not (os.path.exists(combined_green_path) and os.path.exists(combined_red_path)):\n",
    "        new_subfolders.append(dir_name)\n",
    "\n",
    "# Process new subfolders\n",
    "for dir_name in new_subfolders:\n",
    "    csv_dict[dir_name] = {}\n",
    "    folder_path = os.path.join(folder, dir_name)\n",
    "    for file_name in os.listdir(folder_path):\n",
    "        file_path = os.path.join(folder_path, file_name)\n",
    "        if \"Red\" in file_name:\n",
    "            name = \"red\"\n",
    "        elif \"Green\" in file_name:\n",
    "            name = \"green\"\n",
    "        if \"Cell\" in file_name:\n",
    "            name += \"_cells\"\n",
    "        elif \"Nuclei\" in file_name:\n",
    "            name += \"_nuclei\"\n",
    "        csv_dict[dir_name][name] = pd.read_csv(file_path)\n",
    "\n",
    "# Drop unnecessary columns and combine nuclei & cell data\n",
    "columns_to_drop = [0, 4, 5]\n",
    "for plate in new_subfolders:\n",
    "    for result, df in csv_dict[plate].items():\n",
    "        df.drop(df.columns[columns_to_drop], axis=1, inplace=True)\n",
    "        if \"nuclei\" in result:\n",
    "            df.drop(df.columns[[0, 1, 2]], axis=1, inplace=True)\n",
    "    combined_dict[plate] = {\n",
    "        'green': pd.concat([csv_dict[plate]['green_cells'], csv_dict[plate]['green_nuclei']], axis=1),\n",
    "        'red': pd.concat([csv_dict[plate]['red_cells'], csv_dict[plate]['red_nuclei']], axis=1)\n",
    "    }\n",
    "\n",
    "# Save combined data to CSV only for new subfolders\n",
    "for plate in new_subfolders:\n",
    "    for color, df in combined_dict[plate].items():\n",
    "        output_path = os.path.join(folder, plate, f\"{color}_combined.csv\")\n",
    "        df.to_csv(output_path, index=False)"
   ],
   "metadata": {
    "collapsed": false,
    "ExecuteTime": {
     "end_time": "2024-06-25T02:30:00.890104Z",
     "start_time": "2024-06-25T02:29:57.279837Z"
    }
   },
   "id": "542bcea31dd86675",
   "execution_count": 30
  },
  {
   "cell_type": "code",
   "outputs": [],
   "source": [
    "# remove non-numerical data & fix well name\n",
    "def modify_string(s):\n",
    "    return s[:1] + s[4:]\n",
    "\n",
    "for plate in combined_dict:\n",
    "    for result  in combined_dict[plate]:\n",
    "        df = combined_dict[plate][result]\n",
    "        df.drop(df.columns[[1, 2]], axis=1, inplace = True)\n",
    "        df['WELL LABEL'] = df['WELL LABEL'].apply(modify_string)\n",
    "        df.set_index('WELL LABEL', inplace=True)\n"
   ],
   "metadata": {
    "collapsed": false,
    "ExecuteTime": {
     "end_time": "2024-06-25T04:43:37.018843Z",
     "start_time": "2024-06-25T04:43:35.029970Z"
    }
   },
   "id": "2bb592219ce24aee",
   "execution_count": 35
  },
  {
   "cell_type": "code",
   "outputs": [],
   "source": [
    "# save dict\n",
    "import pickle\n",
    "\n",
    "# Save to a pickle file\n",
    "with open('/Users/elizabeth 1/Library/CloudStorage/Box-Box/Wu Lab/Project - 2024/IN Carta [EB]/Results CSVs/11Plates_EDA/nuclei_and_cell_combined_dict.pkl', 'wb') as f:\n",
    "    pickle.dump(combined_dict, f)"
   ],
   "metadata": {
    "collapsed": false,
    "ExecuteTime": {
     "end_time": "2024-06-25T04:45:35.563090Z",
     "start_time": "2024-06-25T04:45:35.227660Z"
    }
   },
   "id": "4dbcc720ff993e16",
   "execution_count": 37
  },
  {
   "cell_type": "markdown",
   "source": [
    "# Z-score Standardization"
   ],
   "metadata": {
    "collapsed": false
   },
   "id": "3e2e6dbacb64444f"
  },
  {
   "cell_type": "code",
   "outputs": [],
   "source": [
    "import pandas as pd\n",
    "import numpy as np\n",
    "import matplotlib.pyplot as plt\n",
    "from sklearn.preprocessing import StandardScaler"
   ],
   "metadata": {
    "collapsed": false,
    "ExecuteTime": {
     "end_time": "2024-06-25T04:24:48.863070Z",
     "start_time": "2024-06-25T04:24:30.927979Z"
    }
   },
   "id": "2ce3f0fb83ff103d",
   "execution_count": 33
  },
  {
   "cell_type": "code",
   "outputs": [
    {
     "data": {
      "text/plain": "<bound method NDFrame.head of      Cells Count  Cells Area_MEAN  Cells Area_SUM  Cells Area_SD  \\\n0       0.767296        -0.122517        0.572340      -0.462682   \n1      -0.174361         0.190308       -0.156393      -0.522266   \n2      -0.271296         0.091083       -0.293666       0.776073   \n3      -0.042806         0.522231        0.127364      -0.281786   \n4       0.102597         1.068048        0.545023       0.741802   \n..           ...              ...             ...            ...   \n379     0.933471         0.471239        1.095369       0.384294   \n380    -0.873679         0.053591       -0.882578      -0.965940   \n381     1.286592         0.073391        1.184474       0.098344   \n382    -2.570046        -2.777859       -2.704028      -1.722159   \n383    -2.784688        -3.027654       -2.822900      -2.260452   \n\n     Cells Gyration Radius_MEAN  Cells Gyration Radius_SUM  \\\n0                     -0.192294                   0.636541   \n1                      0.264878                  -0.158387   \n2                     -0.002695                  -0.312404   \n3                      0.541051                   0.036694   \n4                      0.872412                   0.265380   \n..                          ...                        ...   \n379                    0.666449                   1.062669   \n380                    0.448924                  -0.818868   \n381                    0.000321                   1.196989   \n382                   -3.211341                  -2.656585   \n383                   -3.627644                  -2.818749   \n\n     Cells Gyration Radius_SD  Cells Chord Ratio_MEAN  Cells Chord Ratio_SUM  \\\n0                   -0.624037               -0.087502               0.740512   \n1                   -0.438958                0.273524              -0.124330   \n2                   -0.131498                0.406766              -0.197789   \n3                    0.511098                1.001872               0.159073   \n4                   -0.527752                1.085154               0.332305   \n..                        ...                     ...                    ...   \n379                  0.952159               -0.449448               0.807187   \n380                 -0.664763               -0.499754              -0.951159   \n381                 -0.184829                0.255371               1.358043   \n382                 -1.579200               -1.744233              -2.628968   \n383                 -2.313334               -1.831184              -2.819434   \n\n     Cells Chord Ratio_SD  ...  \\\n0               -0.522356  ...   \n1               -0.922617  ...   \n2                0.188195  ...   \n3               -0.577767  ...   \n4                0.921014  ...   \n..                    ...  ...   \n379             -0.662961  ...   \n380             -0.027450  ...   \n381             -0.687795  ...   \n382             -0.352747  ...   \n383              6.297030  ...   \n\n     Nuclei Grey Level Non uniformity 3 : None (2) - TRITC_SD  \\\n0                                             1.214660          \n1                                             0.070682          \n2                                             2.445612          \n3                                             0.222300          \n4                                             0.757130          \n..                                                 ...          \n379                                           0.747757          \n380                                          -0.667667          \n381                                           0.790454          \n382                                          -0.483300          \n383                                          -1.455157          \n\n     Nuclei Pearson correlation 1 : None (0) - DAPI/2 : None (1) - FITC_MEAN  \\\n0                                            -0.672800                         \n1                                             0.576851                         \n2                                             1.391291                         \n3                                             1.431187                         \n4                                             0.815352                         \n..                                                 ...                         \n379                                          -0.502366                         \n380                                           0.269581                         \n381                                          -0.780011                         \n382                                          -0.672504                         \n383                                           1.555590                         \n\n     Nuclei Pearson correlation 1 : None (0) - DAPI/2 : None (1) - FITC_SUM  \\\n0                                             0.554747                        \n1                                            -0.184543                        \n2                                            -0.020270                        \n3                                             0.427167                        \n4                                             0.539069                        \n..                                                 ...                        \n379                                           1.088614                        \n380                                          -0.702028                        \n381                                           1.097978                        \n382                                          -2.650796                        \n383                                          -2.760984                        \n\n     Nuclei Pearson correlation 1 : None (0) - DAPI/2 : None (1) - FITC_SD  \\\n0                                             0.377424                       \n1                                            -1.502985                       \n2                                            -0.554702                       \n3                                            -0.338915                       \n4                                             0.836785                       \n..                                                 ...                       \n379                                           0.748780                       \n380                                           0.297592                       \n381                                           0.560709                       \n382                                          -0.717643                       \n383                                           0.872764                       \n\n     Nuclei Pearson correlation 1 : None (0) - DAPI/3 : None (2) - TRITC_MEAN  \\\n0                                            -0.851286                          \n1                                            -0.559092                          \n2                                             0.126006                          \n3                                             0.895195                          \n4                                             0.242072                          \n..                                                 ...                          \n379                                          -0.903774                          \n380                                          -0.200979                          \n381                                          -0.682363                          \n382                                           0.752302                          \n383                                           3.446153                          \n\n     Nuclei Pearson correlation 1 : None (0) - DAPI/3 : None (2) - TRITC_SUM  \\\n0                                            -0.024648                         \n1                                            -0.649731                         \n2                                            -0.035317                         \n3                                             1.237000                         \n4                                             0.850628                         \n..                                                 ...                         \n379                                           0.304141                         \n380                                          -0.766541                         \n381                                           0.744562                         \n382                                          -2.597861                         \n383                                          -2.619305                         \n\n     Nuclei Pearson correlation 1 : None (0) - DAPI/3 : None (2) - TRITC_SD  \\\n0                                             0.232289                        \n1                                            -1.187435                        \n2                                            -0.652672                        \n3                                            -1.158607                        \n4                                            -0.382182                        \n..                                                 ...                        \n379                                           0.237547                        \n380                                           0.639000                        \n381                                           0.197623                        \n382                                           0.237316                        \n383                                           1.160039                        \n\n     Nuclei Pearson correlation 2 : None (1) - FITC/3 : None (2) - TRITC_MEAN  \\\n0                                            -0.969770                          \n1                                             0.168300                          \n2                                             0.018662                          \n3                                             0.795395                          \n4                                            -0.311391                          \n..                                                 ...                          \n379                                          -0.850021                          \n380                                          -0.423080                          \n381                                          -0.907292                          \n382                                           1.514685                          \n383                                           3.350871                          \n\n     Nuclei Pearson correlation 2 : None (1) - FITC/3 : None (2) - TRITC_SUM  \\\n0                                            -0.332927                         \n1                                             0.140045                         \n2                                            -0.062829                         \n3                                             1.412062                         \n4                                             0.236196                         \n..                                                 ...                         \n379                                           0.266058                         \n380                                          -0.972058                         \n381                                           0.257644                         \n382                                          -2.521174                         \n383                                          -2.648433                         \n\n     Nuclei Pearson correlation 2 : None (1) - FITC/3 : None (2) - TRITC_SD  \n0                                             0.506904                       \n1                                            -1.360132                       \n2                                            -0.323597                       \n3                                            -1.577326                       \n4                                             0.149055                       \n..                                                 ...                       \n379                                           0.571376                       \n380                                           0.774084                       \n381                                           0.085509                       \n382                                          -0.888931                       \n383                                          -0.339229                       \n\n[384 rows x 783 columns]>"
     },
     "execution_count": 38,
     "metadata": {},
     "output_type": "execute_result"
    }
   ],
   "source": [
    "red_data = combined_dict['NIH-3']['red']\n",
    "green_data = combined_dict['NIH-3']['green']\n",
    "\n",
    "# Z-score Standardization\n",
    "scaler_standard = StandardScaler()\n",
    "red_data_standard = pd.DataFrame(scaler_standard.fit_transform(red_data), columns=red_data.columns)\n",
    "green_data_standard = pd.DataFrame(scaler_standard.fit_transform(green_data), columns=green_data.columns)\n",
    "\n"
   ],
   "metadata": {
    "collapsed": false,
    "ExecuteTime": {
     "end_time": "2024-06-25T04:46:37.044305Z",
     "start_time": "2024-06-25T04:46:36.390002Z"
    }
   },
   "id": "328fb85bd32ed153",
   "execution_count": 38
  },
  {
   "cell_type": "code",
   "outputs": [],
   "source": [
    "\n",
    "# Calculate Z-scores to identify outliers\n",
    "z_scores_red = np.abs((red_data - red_data.mean()) / red_data.std())\n",
    "z_scores_green = np.abs((green_data - green_data.mean()) / green_data.std())\n",
    "\n",
    "# Identify outliers (Z-score threshold, e.g., |z| > 3)\n",
    "outliers_red = (z_scores_red > 3).any(axis=1)\n",
    "outliers_green = (z_scores_green > 3).any(axis=1)\n",
    "\n",
    "# Visualize the outliers\n",
    "plt.figure(figsize=(10, 6))\n",
    "plt.scatter(range(len(z_scores_red)), z_scores_red.mean(axis=1), c=outliers_red, cmap='coolwarm', edgecolors='k')\n",
    "plt.title('Red Cell Data Z-scores (Mean Z-score per Well)')\n",
    "plt.xlabel('Well Index')\n",
    "plt.ylabel('Mean Z-score')\n",
    "plt.show()\n",
    "\n",
    "plt.figure(figsize=(10, 6))\n",
    "plt.scatter(range(len(z_scores_green)), z_scores_green.mean(axis=1), c=outliers_green, cmap='coolwarm', edgecolors='k')\n",
    "plt.title('Green Cell Data Z-scores (Mean Z-score per Well)')\n",
    "plt.xlabel('Well Index')\n",
    "plt.ylabel('Mean Z-score')\n",
    "plt.show()\n",
    "\n",
    "print(f'Number of outlier wells in red cell data: {outliers_red.sum()}')\n",
    "print(f'Number of outlier wells in green cell data: {outliers_green.sum()}')\n"
   ],
   "metadata": {
    "collapsed": false
   },
   "id": "95d5a71c8163ef23"
  }
 ],
 "metadata": {
  "kernelspec": {
   "display_name": "Python 3",
   "language": "python",
   "name": "python3"
  },
  "language_info": {
   "codemirror_mode": {
    "name": "ipython",
    "version": 2
   },
   "file_extension": ".py",
   "mimetype": "text/x-python",
   "name": "python",
   "nbconvert_exporter": "python",
   "pygments_lexer": "ipython2",
   "version": "2.7.6"
  }
 },
 "nbformat": 4,
 "nbformat_minor": 5
}
