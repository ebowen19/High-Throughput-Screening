{
 "cells": [
  {
   "cell_type": "code",
   "execution_count": 2,
   "id": "initial_id",
   "metadata": {
    "collapsed": true,
    "ExecuteTime": {
     "end_time": "2024-06-26T21:13:21.674547Z",
     "start_time": "2024-06-26T21:13:12.228287Z"
    }
   },
   "outputs": [],
   "source": [
    "import os\n",
    "import pandas as pd\n",
    "import pickle\n",
    "import numpy as np\n",
    "from sklearn.preprocessing import StandardScaler\n",
    "\n",
    "folder = \"/Users/elizabeth 1/Library/CloudStorage/Box-Box/Wu Lab/Project - 2024/IN Carta [EB]/Results CSVs/11Plates_EDA\"\n",
    "# Create & Save combined dataframes\n",
    "# Open the file and load the dictionary\n",
    "with open(\"Results CSVs/11Plates_EDA/nuclei_and_cell_combined_dict.pkl\", 'rb') as file:\n",
    "    dict = pickle.load(file)"
   ]
  },
  {
   "cell_type": "markdown",
   "source": [
    "## Metrics to Take into Account\n",
    "- 'Cells Count'\n",
    "- Cells Area_MEAN\n",
    "- Cells Area_SUM\n",
    "- Cells Area_SD\n",
    "\n",
    "- Nuclei Count\n",
    "- Nuclei Area_MEAN\n",
    "- Nuclei Area_SUM\n",
    "- Nuclei Area_SD"
   ],
   "metadata": {
    "collapsed": false
   },
   "id": "6ee84dd3a9f59a43"
  },
  {
   "cell_type": "code",
   "outputs": [],
   "source": [
    "cols_to_keep = ['Cells Count', 'Cells Area_MEAN', 'Cells Area_SUM', 'Cells Area_SD', 'Nuclei Count', 'Nuclei Area_MEAN', 'Nuclei Area_SUM', 'Nuclei Area_SD']\n",
    "\n",
    "count_area_dict = {}\n",
    "for plate in dict:\n",
    "    count_area_dict[plate] = {}\n",
    "    for name, df in dict[plate].items():\n",
    "        count_area_dict[plate][name] = df[cols_to_keep]"
   ],
   "metadata": {
    "collapsed": false,
    "ExecuteTime": {
     "end_time": "2024-06-26T21:18:50.794522Z",
     "start_time": "2024-06-26T21:18:50.037224Z"
    }
   },
   "id": "512a963fb4df8318",
   "execution_count": 5
  },
  {
   "cell_type": "code",
   "outputs": [],
   "source": [
    "# Save to a pickle file\n",
    "with open(\n",
    "        '/Users/elizabeth 1/Library/CloudStorage/Box-Box/Wu Lab/Project - 2024/IN Carta [EB]/Results CSVs/11Plates_EDA/count_area_dict.pkl',\n",
    "        'wb') as f:\n",
    "    pickle.dump(count_area_dict, f)"
   ],
   "metadata": {
    "collapsed": false,
    "ExecuteTime": {
     "end_time": "2024-06-26T21:19:44.139137Z",
     "start_time": "2024-06-26T21:19:44.105230Z"
    }
   },
   "id": "18e9c1bef69ffadc",
   "execution_count": 6
  },
  {
   "cell_type": "code",
   "outputs": [
    {
     "data": {
      "text/plain": "<bound method NDFrame.head of             Cells Count  Cells Area_MEAN  Cells Area_SUM  Cells Area_SD  \\\nWELL LABEL                                                                \nA1                  323       580.528173      187510.600     337.415629   \nA2                  387       674.877674      261177.660     450.748841   \nA3                  262       602.100420      157750.310     401.179621   \nA4                  382       584.199895      223164.360     375.551696   \nA5                  422       652.372938      275301.380     442.379097   \n...                 ...              ...             ...            ...   \nP20                 347       552.278386      191640.600     355.020027   \nP21                 319       569.431411      181648.620     380.103908   \nP22                 397       633.632393      251552.060     345.440970   \nP23                  53       408.641849       21658.018     321.751842   \nP24                  29       355.370552       10305.746     175.033788   \n\n            Nuclei Count  Nuclei Area_MEAN  Nuclei Area_SUM  Nuclei Area_SD  \nWELL LABEL                                                                   \nA1                   331        163.355127       54070.5470       77.324510  \nA2                   424        179.341014       76040.5900       98.195819  \nA3                   248        193.032339       47872.0200      105.778118  \nA4                   380        175.053105       66520.1800       90.078498  \nA5                   453        182.986711       82892.9800      112.480118  \n...                  ...               ...              ...             ...  \nP20                  354        149.210932       52820.6700       79.361763  \nP21                  332        155.111958       51497.1700       80.640737  \nP22                  439        169.323907       74333.1950       87.749210  \nP23                   53        115.332585        6112.6270       80.584648  \nP24                   31        102.238084        3169.3806       60.365312  \n\n[384 rows x 8 columns]>"
     },
     "execution_count": 4,
     "metadata": {},
     "output_type": "execute_result"
    }
   ],
   "source": [
    "ex = dict['NIH-2']['green']\n",
    "ex[cols_to_keep].head"
   ],
   "metadata": {
    "collapsed": false,
    "ExecuteTime": {
     "end_time": "2024-06-26T21:15:17.872688Z",
     "start_time": "2024-06-26T21:15:17.706317Z"
    }
   },
   "id": "5456066c56157060",
   "execution_count": 4
  }
 ],
 "metadata": {
  "kernelspec": {
   "display_name": "Python 3",
   "language": "python",
   "name": "python3"
  },
  "language_info": {
   "codemirror_mode": {
    "name": "ipython",
    "version": 2
   },
   "file_extension": ".py",
   "mimetype": "text/x-python",
   "name": "python",
   "nbconvert_exporter": "python",
   "pygments_lexer": "ipython2",
   "version": "2.7.6"
  }
 },
 "nbformat": 4,
 "nbformat_minor": 5
}
